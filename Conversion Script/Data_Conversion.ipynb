{
 "cells": [
  {
   "cell_type": "markdown",
   "id": "677e5261-cefc-4df1-842f-df4a8fe3a648",
   "metadata": {},
   "source": [
    "## This is the only cell you need to change ##\n",
    "\n",
    "### Required packages ###\n",
    "- numpy\n",
    "- pandas\n",
    "\n",
    "### Possible filter file ###\n",
    "- Default: Set_filter_file.xlsx\n",
    "- Any other filter file name as long as file exists in main directory\n",
    "  \n",
    "### Possible file formats ###\n",
    "- CSV\n",
    "- excel\n",
    "\n",
    "### Possible output formats ###\n",
    "- long format where each line contains one value\n",
    "- wide table-style format where values for different years (and in case of trade parameters regions) are grouped per line\n",
    "\n",
    "### Possible processing options ###\n",
    "- both creates the dataset for parameters and timeseries\n",
    "- parameters_only for only regular parameters (saves time since timeseries, especially with excel, takes a lot of time)\n",
    "- timeseries_only for only timeseries\n",
    "\n",
    "### Possible scenario options ###\n",
    "- Any scenario name. The script will search for input data for the specified this scenario and overwrite the default values."
   ]
  },
  {
   "cell_type": "code",
   "execution_count": 1,
   "id": "1e422fd9-87f3-4553-8408-f277c20b66e7",
   "metadata": {},
   "outputs": [],
   "source": [
    "# Options regarding output format and processing\n",
    "settings_file = 'Set_filter_file.xlsx' # Specify which filter file should be used\n",
    "output_file_format = 'excel'  # Change this to 'csv' or 'excel' depending on your needs\n",
    "output_format = 'wide' # Change to 'wide' or 'long' depending on your needs\n",
    "processing_option = 'both' # Change to 'parameters_only' if you don't want the timeseries to created (saves time) or 'timeseries_only' for only timeseries or 'both' \n",
    "scenario_option = 'None' # Specify your scenario here. Type 'None' for no scenario"
   ]
  },
  {
   "cell_type": "markdown",
   "id": "ea8d0691-ba39-41af-8ba4-39ca5f875c97",
   "metadata": {},
   "source": [
    "## Run this cell to execute the script ##\n",
    "### You don't need to change anything in here ### "
   ]
  },
  {
   "cell_type": "code",
   "execution_count": 2,
   "id": "60151776-3328-41bd-bf59-284cf501e2eb",
   "metadata": {},
   "outputs": [
    {
     "ename": "ValueError",
     "evalue": "Non UTF-8 characters found in the following CSV files:\nError in file 'GENeSYS-MOD/Conversion Script\\..\\Data\\Parameters\\Par_CapitalCost\\Par_CapitalCost.csv': 'utf-8' codec can't decode byte 0xf6 in position 2200: invalid start byte\n",
     "output_type": "error",
     "traceback": [
      "\u001b[1;31m---------------------------------------------------------------------------\u001b[0m",
      "\u001b[1;31mValueError\u001b[0m                                Traceback (most recent call last)",
      "Cell \u001b[1;32mIn[2], line 4\u001b[0m\n\u001b[0;32m      1\u001b[0m \u001b[38;5;28;01mfrom\u001b[39;00m \u001b[38;5;21;01mfunctions\u001b[39;00m\u001b[38;5;21;01m.\u001b[39;00m\u001b[38;5;21;01mfunction_import\u001b[39;00m \u001b[38;5;28;01mimport\u001b[39;00m master_function\n\u001b[0;32m      3\u001b[0m \u001b[38;5;66;03m# Call the function\u001b[39;00m\n\u001b[1;32m----> 4\u001b[0m master_function(settings_file,output_file_format, output_format, processing_option, scenario_option)\n",
      "File \u001b[1;32m~\\Desktop\\Studium\\Wirtschaftsingenieurwesen\\WIP\\Forschung\\GENeSYS-MOD\\Conversion Script\\functions\\function_import.py:21\u001b[0m, in \u001b[0;36mmaster_function\u001b[1;34m(settings_file, output_file_format, output_format, processing_option, scenario_option)\u001b[0m\n\u001b[0;32m     18\u001b[0m validate_input(output_file_format, output_format, processing_option, settings_file, scenario_option)\n\u001b[0;32m     20\u001b[0m \u001b[38;5;66;03m# check for utf-8-errors\u001b[39;00m\n\u001b[1;32m---> 21\u001b[0m search_non_utf8_characters()\n\u001b[0;32m     23\u001b[0m \u001b[38;5;66;03m# Ensure unique_values_concatenated is defined\u001b[39;00m\n\u001b[0;32m     24\u001b[0m unique_values_concatenated \u001b[38;5;241m=\u001b[39m read_settings_file(excel_file_path, output_csv_directory, scenario_option, output_format)\n",
      "File \u001b[1;32m~\\Desktop\\Studium\\Wirtschaftsingenieurwesen\\WIP\\Forschung\\GENeSYS-MOD\\Conversion Script\\functions\\data_error_check.py:32\u001b[0m, in \u001b[0;36msearch_non_utf8_characters\u001b[1;34m()\u001b[0m\n\u001b[0;32m     30\u001b[0m         \u001b[38;5;28;01melse\u001b[39;00m:\n\u001b[0;32m     31\u001b[0m             error_message \u001b[38;5;241m+\u001b[39m\u001b[38;5;241m=\u001b[39m \u001b[38;5;124mf\u001b[39m\u001b[38;5;124m\"\u001b[39m\u001b[38;5;124mError in file \u001b[39m\u001b[38;5;124m'\u001b[39m\u001b[38;5;124mGENeSYS-MOD/\u001b[39m\u001b[38;5;132;01m{\u001b[39;00mrelative_path\u001b[38;5;132;01m}\u001b[39;00m\u001b[38;5;124m'\u001b[39m\u001b[38;5;124m: \u001b[39m\u001b[38;5;132;01m{\u001b[39;00mline_content\u001b[38;5;241m.\u001b[39mstrip()\u001b[38;5;132;01m}\u001b[39;00m\u001b[38;5;130;01m\\n\u001b[39;00m\u001b[38;5;124m\"\u001b[39m\n\u001b[1;32m---> 32\u001b[0m     \u001b[38;5;28;01mraise\u001b[39;00m \u001b[38;5;167;01mValueError\u001b[39;00m(error_message)\n\u001b[0;32m     34\u001b[0m \u001b[38;5;66;03m#Suche nach Zeilen mit a's und Ausageb der Zeilen:\u001b[39;00m\n\u001b[0;32m     35\u001b[0m \u001b[38;5;250m\u001b[39m\u001b[38;5;124;03m\"\"\"def find_a_in_csv(file_path):\u001b[39;00m\n\u001b[0;32m     36\u001b[0m \u001b[38;5;124;03mdata = np.genfromtxt(file_path, delimiter=',', dtype=str)\u001b[39;00m\n\u001b[0;32m     37\u001b[0m \u001b[38;5;124;03mresult = []\u001b[39;00m\n\u001b[1;32m   (...)\u001b[0m\n\u001b[0;32m     41\u001b[0m \u001b[38;5;124;03m        print(', '.join(row))  # Ausgabe der Zeile\u001b[39;00m\n\u001b[0;32m     42\u001b[0m \u001b[38;5;124;03mreturn result\"\"\"\u001b[39;00m\n",
      "\u001b[1;31mValueError\u001b[0m: Non UTF-8 characters found in the following CSV files:\nError in file 'GENeSYS-MOD/Conversion Script\\..\\Data\\Parameters\\Par_CapitalCost\\Par_CapitalCost.csv': 'utf-8' codec can't decode byte 0xf6 in position 2200: invalid start byte\n"
     ]
    }
   ],
   "source": [
    "from functions.function_import import master_function\n",
    "\n",
    "# Call the function\n",
    "master_function(settings_file,output_file_format, output_format, processing_option, scenario_option)\n"
   ]
  },
  {
   "cell_type": "code",
   "execution_count": null,
   "id": "aec61526-cc83-4aa4-ad24-37934ab92feb",
   "metadata": {},
   "outputs": [],
   "source": []
  }
 ],
 "metadata": {
  "kernelspec": {
   "display_name": "Python 3 (ipykernel)",
   "language": "python",
   "name": "python3"
  },
  "language_info": {
   "codemirror_mode": {
    "name": "ipython",
    "version": 3
   },
   "file_extension": ".py",
   "mimetype": "text/x-python",
   "name": "python",
   "nbconvert_exporter": "python",
   "pygments_lexer": "ipython3",
   "version": "3.11.7"
  }
 },
 "nbformat": 4,
 "nbformat_minor": 5
}
