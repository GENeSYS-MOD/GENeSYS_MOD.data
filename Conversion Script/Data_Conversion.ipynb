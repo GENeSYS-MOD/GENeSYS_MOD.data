{
 "cells": [
  {
   "cell_type": "markdown",
   "id": "677e5261-cefc-4df1-842f-df4a8fe3a648",
   "metadata": {},
   "source": [
    "## This is the only cell you need to change ##\n",
    "\n",
    "### Required packages ###\n",
    "- numpy\n",
    "- pandas\n",
    "\n",
    "### Possible filter file ###\n",
    "- Default: Set_filter_file.xlsx\n",
    "- Any other filter file name as long as file exists in main directory\n",
    "  \n",
    "### Possible file formats ###\n",
    "- CSV\n",
    "- excel\n",
    "\n",
    "### Possible output formats ###\n",
    "- long format where each line contains one value\n",
    "- wide table-style format where values for different years (and in case of trade parameters regions) are grouped per line\n",
    "\n",
    "### Possible processing options ###\n",
    "- both creates the dataset for parameters and timeseries\n",
    "- parameters_only for only regular parameters (saves time since timeseries, especially with excel, takes a lot of time)\n",
    "- timeseries_only for only timeseries\n",
    "\n",
    "### Possible scenario options ###\n",
    "- Any scenario name. The script will search for input data for the specified this scenario and overwrite the default values."
   ]
  },
  {
   "cell_type": "code",
   "execution_count": 9,
   "id": "1e422fd9-87f3-4553-8408-f277c20b66e7",
   "metadata": {},
   "outputs": [],
   "source": [
    "# Options regarding output format and processing\n",
    "settings_file = 'Set_filter_file.xlsx' # Specify which filter file should be used\n",
    "output_file_format = 'excel'  # Change this to 'csv' or 'excel' depending on your needs\n",
    "output_format = 'long' # Change to 'wide' or 'long' depending on your needs\n",
    "processing_option = 'parameters_only' # Change to 'parameters_only' if you don't want the timeseries to created (saves time) or 'timeseries_only' for only timeseries or 'both' \n",
    "scenario_option = 'Europe_EnVis_Trinity' # Specify your scenario here "
   ]
  },
  {
   "cell_type": "markdown",
   "id": "ea8d0691-ba39-41af-8ba4-39ca5f875c97",
   "metadata": {},
   "source": [
    "## Run this cell to execute the script ##\n",
    "### You don't need to change anything in here ### "
   ]
  },
  {
   "cell_type": "code",
   "execution_count": 10,
   "id": "60151776-3328-41bd-bf59-284cf501e2eb",
   "metadata": {},
   "outputs": [
    {
     "name": "stdout",
     "output_type": "stream",
     "text": [
      "C:\\Users\\nim\\Documents\\GENeSYS_MOD.data\\Data\\Parameters\\00_Sets&Tags\\Par_CapacityToActivityUnit.csv\n",
      "C:\\Users\\nim\\Documents\\GENeSYS_MOD.data\\Data\\Parameters\\00_Sets&Tags\\Par_EmissionPenaltyTagTech.csv\n",
      "C:\\Users\\nim\\Documents\\GENeSYS_MOD.data\\Data\\Parameters\\00_Sets&Tags\\Par_ReserveMarginTagFuel.csv\n",
      "C:\\Users\\nim\\Documents\\GENeSYS_MOD.data\\Data\\Parameters\\00_Sets&Tags\\Par_ReserveMarginTagTechnology.csv\n",
      "C:\\Users\\nim\\Documents\\GENeSYS_MOD.data\\Data\\Parameters\\00_Sets&Tags\\Par_RETagFuel.csv\n",
      "C:\\Users\\nim\\Documents\\GENeSYS_MOD.data\\Data\\Parameters\\00_Sets&Tags\\Par_RETagTechnology.csv\n",
      "C:\\Users\\nim\\Documents\\GENeSYS_MOD.data\\Data\\Parameters\\00_Sets&Tags\\Par_TagDemandFuelToSector.csv\n",
      "C:\\Users\\nim\\Documents\\GENeSYS_MOD.data\\Data\\Parameters\\00_Sets&Tags\\Par_TagElectricTechnology.csv\n",
      "C:\\Users\\nim\\Documents\\GENeSYS_MOD.data\\Data\\Parameters\\00_Sets&Tags\\Par_TagFuelToSubsets.csv\n",
      "C:\\Users\\nim\\Documents\\GENeSYS_MOD.data\\Data\\Parameters\\00_Sets&Tags\\Par_TagTechnologyToModalType.csv\n",
      "C:\\Users\\nim\\Documents\\GENeSYS_MOD.data\\Data\\Parameters\\00_Sets&Tags\\Par_TagTechnologyToSector.csv\n",
      "C:\\Users\\nim\\Documents\\GENeSYS_MOD.data\\Data\\Parameters\\00_Sets&Tags\\Par_TagTechnologyToSubsets.csv\n",
      "C:\\Users\\nim\\Documents\\GENeSYS_MOD.data\\Data\\Parameters\\00_Sets&Tags\\Par_TagTimeIndependentFuel.csv\n",
      "C:\\Users\\nim\\Documents\\GENeSYS_MOD.data\\Data\\Parameters\\Par_AnnualEmissionLimit\\Par_AnnualEmissionLimit.csv\n",
      "C:\\Users\\nim\\Documents\\GENeSYS_MOD.data\\Data\\Parameters\\Par_AnnualExogenousEmission\\Par_AnnualExogenousEmission.csv\n",
      "C:\\Users\\nim\\Documents\\GENeSYS_MOD.data\\Data\\Parameters\\Par_AnnualMaxNewCapacity\\Par_AnnualMaxNewCapacity.csv\n",
      "C:\\Users\\nim\\Documents\\GENeSYS_MOD.data\\Data\\Parameters\\Par_AnnualMinNewCapacity\\Par_AnnualMinNewCapacity.csv\n",
      "C:\\Users\\nim\\Documents\\GENeSYS_MOD.data\\Data\\Parameters\\Par_AnnualSectoralEmissionLimit\\Par_AnnualSectoralEmissionLimit.csv\n",
      "C:\\Users\\nim\\Documents\\GENeSYS_MOD.data\\Data\\Parameters\\Par_AvailabilityFactor\\Par_AvailabilityFactor.csv\n",
      "C:\\Users\\nim\\Documents\\GENeSYS_MOD.data\\Data\\Parameters\\Par_BaseYearProduction\\Par_BaseYearProduction.csv\n",
      "C:\\Users\\nim\\Documents\\GENeSYS_MOD.data\\Data\\Parameters\\Par_BaseYearSlack\\Par_BaseYearSlack.csv\n",
      "C:\\Users\\nim\\Documents\\GENeSYS_MOD.data\\Data\\Parameters\\Par_CapacityFactor\\Par_CapacityFactor.csv\n",
      "C:\\Users\\nim\\Documents\\GENeSYS_MOD.data\\Data\\Parameters\\Par_CapitalCost\\Par_CapitalCost.csv\n",
      "C:\\Users\\nim\\Documents\\GENeSYS_MOD.data\\Data\\Parameters\\Par_CapitalCostStorage\\Par_CapitalCostStorage.csv\n",
      "C:\\Users\\nim\\Documents\\GENeSYS_MOD.data\\Data\\Parameters\\Par_CommissionedTradeCapacity\\Par_CommissionedTradeCapacity.csv\n",
      "C:\\Users\\nim\\Documents\\GENeSYS_MOD.data\\Data\\Parameters\\Par_EmissionActivityRatio\\Par_EmissionActivityRatio.csv\n",
      "C:\\Users\\nim\\Documents\\GENeSYS_MOD.data\\Data\\Parameters\\Par_EmissionContentPerFuel\\Par_EmissionContentPerFuel.csv\n",
      "C:\\Users\\nim\\Documents\\GENeSYS_MOD.data\\Data\\Parameters\\Par_EmissionsPenalty\\Par_EmissionsPenalty.csv\n",
      "C:\\Users\\nim\\Documents\\GENeSYS_MOD.data\\Data\\Parameters\\Par_FixedCost\\Par_FixedCost.csv\n",
      "C:\\Users\\nim\\Documents\\GENeSYS_MOD.data\\Data\\Parameters\\Par_GeneralDiscountRate\\Par_GeneralDiscountRate.csv\n",
      "C:\\Users\\nim\\Documents\\GENeSYS_MOD.data\\Data\\Parameters\\Par_GrowthRateTradeCapacity\\Par_GrowthRateTradeCapacity.csv\n",
      "C:\\Users\\nim\\Documents\\GENeSYS_MOD.data\\Data\\Parameters\\Par_InputActivityRatio\\Par_InputActivityRatio.csv\n",
      "C:\\Users\\nim\\Documents\\GENeSYS_MOD.data\\Data\\Parameters\\Par_MinStorageCharge\\Par_MinStorageCharge.csv\n",
      "C:\\Users\\nim\\Documents\\GENeSYS_MOD.data\\Data\\Parameters\\Par_ModalSplitByFuel\\Par_ModalSplitByFuel.csv\n",
      "C:\\Users\\nim\\Documents\\GENeSYS_MOD.data\\Data\\Parameters\\Par_ModelPeriodActivityMaxLimit\\Par_ModelPeriodActivityMaxLimit.csv\n",
      "C:\\Users\\nim\\Documents\\GENeSYS_MOD.data\\Data\\Parameters\\Par_ModelPeriodEmissionLimit\\Par_ModelPeriodEmissionLimit.csv\n",
      "C:\\Users\\nim\\Documents\\GENeSYS_MOD.data\\Data\\Parameters\\Par_ModelPeriodExogenousEmission\\Par_ModelPeriodExogenousEmission.csv\n",
      "C:\\Users\\nim\\Documents\\GENeSYS_MOD.data\\Data\\Parameters\\Par_OperationalLife\\Par_OperationalLife.csv\n",
      "C:\\Users\\nim\\Documents\\GENeSYS_MOD.data\\Data\\Parameters\\Par_OperationalLifeStorage\\Par_OperationalLifeStorage.csv\n",
      "C:\\Users\\nim\\Documents\\GENeSYS_MOD.data\\Data\\Parameters\\Par_OutputActivityRatio\\Par_OutputActivityRatio.csv\n",
      "C:\\Users\\nim\\Documents\\GENeSYS_MOD.data\\Data\\Parameters\\Par_ProductionChangeCost\\Par_ProductionChangeCost.csv\n",
      "C:\\Users\\nim\\Documents\\GENeSYS_MOD.data\\Data\\Parameters\\Par_ProductionGrowthLimit\\Par_ProductionGrowthLimit.csv\n",
      "C:\\Users\\nim\\Documents\\GENeSYS_MOD.data\\Data\\Parameters\\Par_RampingDownFactor\\Par_RampingDownFactor.csv\n",
      "C:\\Users\\nim\\Documents\\GENeSYS_MOD.data\\Data\\Parameters\\Par_RampingUpFactor\\Par_RampingUpFactor.csv\n",
      "C:\\Users\\nim\\Documents\\GENeSYS_MOD.data\\Data\\Parameters\\Par_RegionalAnnualEmissionLimit\\Par_RegionalAnnualEmissionLimit.csv\n",
      "C:\\Users\\nim\\Documents\\GENeSYS_MOD.data\\Data\\Parameters\\Par_RegionalBaseYearProduction\\Par_RegionalBaseYearProduction.csv\n",
      "C:\\Users\\nim\\Documents\\GENeSYS_MOD.data\\Data\\Parameters\\Par_RegionalCCSLimit\\Par_RegionalCCSLimit.csv\n",
      "C:\\Users\\nim\\Documents\\GENeSYS_MOD.data\\Data\\Parameters\\Par_RegionalModelPeriodEmissionLimit\\Par_RegionalModelPeriodEmissionLimit.csv\n",
      "C:\\Users\\nim\\Documents\\GENeSYS_MOD.data\\Data\\Parameters\\Par_REMinProductionTarget\\Par_REMinProductionTarget.csv\n",
      "C:\\Users\\nim\\Documents\\GENeSYS_MOD.data\\Data\\Parameters\\Par_ReserveMargin\\Par_ReserveMargin.csv\n",
      "C:\\Users\\nim\\Documents\\GENeSYS_MOD.data\\Data\\Parameters\\Par_ResidualCapacity\\Par_ResidualCapacity.csv\n",
      "C:\\Users\\nim\\Documents\\GENeSYS_MOD.data\\Data\\Parameters\\Par_ResidualStorageCapacity\\Par_ResidualStorageCapacity.csv\n",
      "C:\\Users\\nim\\Documents\\GENeSYS_MOD.data\\Data\\Parameters\\Par_SelfSufficiency\\Par_SelfSufficiency.csv\n",
      "C:\\Users\\nim\\Documents\\GENeSYS_MOD.data\\Data\\Parameters\\Par_SocialDiscountRate\\Par_SocialDiscountRate.csv\n",
      "C:\\Users\\nim\\Documents\\GENeSYS_MOD.data\\Data\\Parameters\\Par_SpecifiedAnnualDemand\\Par_SpecifiedAnnualDemand.csv\n",
      "C:\\Users\\nim\\Documents\\GENeSYS_MOD.data\\Data\\Parameters\\Par_StorageE2PRatio\\Par_StorageE2PRatio.csv\n",
      "C:\\Users\\nim\\Documents\\GENeSYS_MOD.data\\Data\\Parameters\\Par_StorageLevelStart\\Par_StorageLevelStart.csv\n",
      "C:\\Users\\nim\\Documents\\GENeSYS_MOD.data\\Data\\Parameters\\Par_TechnologyDiscountRate\\Par_TechnologyDiscountRate.csv\n",
      "C:\\Users\\nim\\Documents\\GENeSYS_MOD.data\\Data\\Parameters\\Par_TechnologyFromStorage\\Par_TechnologyFromStorage.csv\n",
      "C:\\Users\\nim\\Documents\\GENeSYS_MOD.data\\Data\\Parameters\\Par_TechnologyToStorage\\Par_TechnologyToStorage.csv\n",
      "C:\\Users\\nim\\Documents\\GENeSYS_MOD.data\\Data\\Parameters\\Par_TotalAnnualMaxActivity\\Par_TotalAnnualMaxActivity.csv\n",
      "C:\\Users\\nim\\Documents\\GENeSYS_MOD.data\\Data\\Parameters\\Par_TotalAnnualMaxCapacity\\Par_TotalAnnualMaxCapacity.csv\n",
      "C:\\Users\\nim\\Documents\\GENeSYS_MOD.data\\Data\\Parameters\\Par_TotalAnnualMinActivity\\Par_TotalAnnualMinActivity.csv\n",
      "C:\\Users\\nim\\Documents\\GENeSYS_MOD.data\\Data\\Parameters\\Par_TotalAnnualMinCapacity\\Par_TotalAnnualMinCapacity.csv\n",
      "C:\\Users\\nim\\Documents\\GENeSYS_MOD.data\\Data\\Parameters\\Par_TradeCapacity\\Par_TradeCapacity.csv\n",
      "C:\\Users\\nim\\Documents\\GENeSYS_MOD.data\\Data\\Parameters\\Par_TradeCapacityGrowthCosts\\Par_TradeCapacityGrowthCosts.csv\n",
      "C:\\Users\\nim\\Documents\\GENeSYS_MOD.data\\Data\\Parameters\\Par_TradeCosts\\Par_TradeCosts.csv\n",
      "C:\\Users\\nim\\Documents\\GENeSYS_MOD.data\\Data\\Parameters\\Par_TradeLossFactor\\Par_TradeLossFactor.csv\n",
      "C:\\Users\\nim\\Documents\\GENeSYS_MOD.data\\Data\\Parameters\\Par_TradeRoute\\Par_TradeRoute.csv\n",
      "C:\\Users\\nim\\Documents\\GENeSYS_MOD.data\\Data\\Parameters\\Par_VariableCost\\Par_VariableCost.csv\n",
      "Worksheets with specified scenario data:\n",
      "AnnualEmissionLimit\n",
      "GrowthRateTradeCapacity\n",
      "InputActivityRatio\n",
      "ModelPeriodEmissionLimit\n",
      "OutputActivityRatio\n",
      "REMinProductionTarget\n",
      "SelfSufficiency\n",
      "SpecifiedAnnualDemand\n",
      "TechnologyFromStorage\n",
      "TechnologyToStorage\n",
      "VariableCost\n",
      "\n",
      "\n",
      "\n",
      "Everything worked successfully. You are great! Smile :)\n"
     ]
    }
   ],
   "source": [
    "from functions.function_import import master_function\n",
    "\n",
    "# Call the function\n",
    "master_function(settings_file,output_file_format, output_format, processing_option, scenario_option)\n"
   ]
  },
  {
   "cell_type": "code",
   "execution_count": null,
   "id": "aec61526-cc83-4aa4-ad24-37934ab92feb",
   "metadata": {},
   "outputs": [],
   "source": []
  }
 ],
 "metadata": {
  "kernelspec": {
   "display_name": "Python 3 (ipykernel)",
   "language": "python",
   "name": "python3"
  },
  "language_info": {
   "codemirror_mode": {
    "name": "ipython",
    "version": 3
   },
   "file_extension": ".py",
   "mimetype": "text/x-python",
   "name": "python",
   "nbconvert_exporter": "python",
   "pygments_lexer": "ipython3",
   "version": "3.9.17"
  },
  "varInspector": {
   "cols": {
    "lenName": 16,
    "lenType": 16,
    "lenVar": 40
   },
   "kernels_config": {
    "python": {
     "delete_cmd_postfix": "",
     "delete_cmd_prefix": "del ",
     "library": "var_list.py",
     "varRefreshCmd": "print(var_dic_list())"
    },
    "r": {
     "delete_cmd_postfix": ") ",
     "delete_cmd_prefix": "rm(",
     "library": "var_list.r",
     "varRefreshCmd": "cat(var_dic_list()) "
    }
   },
   "types_to_exclude": [
    "module",
    "function",
    "builtin_function_or_method",
    "instance",
    "_Feature"
   ],
   "window_display": false
  }
 },
 "nbformat": 4,
 "nbformat_minor": 5
}
