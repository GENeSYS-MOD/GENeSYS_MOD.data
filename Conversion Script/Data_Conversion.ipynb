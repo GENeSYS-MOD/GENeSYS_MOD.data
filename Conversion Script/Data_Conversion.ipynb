{
 "cells": [
  {
   "cell_type": "markdown",
   "id": "677e5261-cefc-4df1-842f-df4a8fe3a648",
   "metadata": {},
   "source": [
    "## This is the only cell you need to change ##\n",
    "### Possible file formats ###\n",
    "- CSV\n",
    "- xlsx\n",
    "\n",
    "### Possible output formats ###\n",
    "- long format where each line contains one value\n",
    "- wide table-style format where values for different years (and in case of trade parameters regions) are grouped per line\n",
    "\n",
    "### Possible processing options ###\n",
    "- both creates the dataset for parameters and timeseries\n",
    "- parameters_only for only regular parameters (saves time since timeseries, especially with excel, takes a lot of time)\n",
    "- timeseries_only for only timeseries"
   ]
  },
  {
   "cell_type": "code",
   "execution_count": 8,
   "id": "1e422fd9-87f3-4553-8408-f277c20b66e7",
   "metadata": {},
   "outputs": [],
   "source": [
    "# Options regarding output format and processing\n",
    "output_file_format = 'csv'  # Change this to 'csv' or 'excel' depending on your needs\n",
    "output_format = 'long' # Change to 'wide' or 'long' depending on your needs\n",
    "processing_option = 'both' # Change to 'parameters_only' if you don't want the timeseries to created (saves time) or 'timeseries_only' for only timeseries or 'both' "
   ]
  },
  {
   "cell_type": "code",
   "execution_count": 9,
   "id": "0450928c-4f65-4626-ba80-08dce39c28e8",
   "metadata": {},
   "outputs": [],
   "source": [
    "from functions.input_error_check import validate_input\n",
    "from functions.directories_definition import directories\n",
    "from functions.read_settings_file import read_settings_file\n",
    "from functions.read_parameters import read_regular_parameters\n",
    "from functions.process_parameters import process_regular_parameters\n",
    "from functions.output_parameters import output_regular_parameters\n",
    "from functions.read_filter_timeseries import read_filter_timeseries\n",
    "from functions.output_timeseries import output_timeseries"
   ]
  },
  {
   "cell_type": "code",
   "execution_count": 10,
   "id": "5fe578ba-9ca4-4988-9735-c81975a72a91",
   "metadata": {},
   "outputs": [],
   "source": [
    "# Validate user input\n",
    "validate_input(output_file_format, output_format, processing_option)\n",
    "\n",
    "# Initialize all directories\n",
    "current_directory, excel_file_path, parameter_directory, sets_and_tags_directory, timeseries_directory, output_csv_directory, output_excel_directory, output_excel_file_path, output_excel_file_path_timeseries = directories()\n",
    "\n",
    "# Ensure unique_values_concatenated is defined\n",
    "unique_values_concatenated = read_settings_file(excel_file_path, output_csv_directory)\n",
    "\n",
    "# Check if processing_option is not 'timeseries_only'\n",
    "if processing_option != 'timeseries_only':\n",
    "\n",
    "    # Process each regular parameter file\n",
    "    regular_parameter_paths = read_regular_parameters(current_directory, parameter_directory, sets_and_tags_directory)\n",
    "\n",
    "    # Store the worksheet names and corresponding dataframes\n",
    "    worksheets_data = {'Sets': unique_values_concatenated}  # Including 'Sets' sheet\n",
    "\n",
    "    # Process files and store dataframes with their names\n",
    "    for path in regular_parameter_paths:\n",
    "        df_pivot, worksheet_name = process_regular_parameters(path, unique_values_concatenated, output_format)\n",
    "        worksheets_data[worksheet_name] = df_pivot  # or df_original based on your requirement\n",
    "\n",
    "    # Call the function to output data\n",
    "    output_regular_parameters(worksheets_data, output_excel_directory, output_excel_file_path, output_csv_directory, output_file_format)\n"
   ]
  },
  {
   "cell_type": "code",
   "execution_count": null,
   "id": "6969f79a-8e2f-4a6e-8728-916b67c7dc19",
   "metadata": {},
   "outputs": [],
   "source": [
    "# Check if processing_option is not 'timeseries_only'\n",
    "if processing_option != 'parameters_only':\n",
    "\n",
    "    # Read and filter time series data\n",
    "    filtered_timeseries_data = read_filter_timeseries(timeseries_directory, unique_values_concatenated)\n",
    "\n",
    "    # Output the processed data\n",
    "    output_timeseries(filtered_timeseries_data, output_excel_directory, output_excel_file_path_timeseries, output_csv_directory, output_file_format)"
   ]
  },
  {
   "cell_type": "code",
   "execution_count": null,
   "id": "aec61526-cc83-4aa4-ad24-37934ab92feb",
   "metadata": {},
   "outputs": [],
   "source": []
  }
 ],
 "metadata": {
  "kernelspec": {
   "display_name": "Python 3 (ipykernel)",
   "language": "python",
   "name": "python3"
  },
  "language_info": {
   "codemirror_mode": {
    "name": "ipython",
    "version": 3
   },
   "file_extension": ".py",
   "mimetype": "text/x-python",
   "name": "python",
   "nbconvert_exporter": "python",
   "pygments_lexer": "ipython3",
   "version": "3.11.5"
  }
 },
 "nbformat": 4,
 "nbformat_minor": 5
}
