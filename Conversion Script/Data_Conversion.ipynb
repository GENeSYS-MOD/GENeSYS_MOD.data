{
 "cells": [
  {
   "cell_type": "markdown",
   "id": "677e5261-cefc-4df1-842f-df4a8fe3a648",
   "metadata": {},
   "source": [
    "## This is the only cell you need to change ##\n",
    "### Possible file formats ###\n",
    "- CSV\n",
    "- excel\n",
    "\n",
    "### Possible output formats ###\n",
    "- long format where each line contains one value\n",
    "- wide table-style format where values for different years (and in case of trade parameters regions) are grouped per line\n",
    "\n",
    "### Possible processing options ###\n",
    "- both creates the dataset for parameters and timeseries\n",
    "- parameters_only for only regular parameters (saves time since timeseries, especially with excel, takes a lot of time)\n",
    "- timeseries_only for only timeseries\n",
    "\n",
    "### Possible scenario options ###\n",
    "- Any scenario name. The script will search for input data for the specified this scenario and overwrite the default values."
   ]
  },
  {
   "cell_type": "code",
   "execution_count": 1,
   "id": "1e422fd9-87f3-4553-8408-f277c20b66e7",
   "metadata": {},
   "outputs": [],
   "source": [
    "# Options regarding output format and processing\n",
    "output_file_format = 'csv'  # Change this to 'csv' or 'excel' depending on your needs\n",
    "output_format = 'long' # Change to 'wide' or 'long' depending on your needs\n",
    "processing_option = 'both' # Change to 'parameters_only' if you don't want the timeseries to created (saves time) or 'timeseries_only' for only timeseries or 'both' \n",
    "scenario_option = 'Europe_openENTRANCE_technoFriendly' # Specify your scenario here "
   ]
  },
  {
   "cell_type": "markdown",
   "id": "ea8d0691-ba39-41af-8ba4-39ca5f875c97",
   "metadata": {},
   "source": [
    "## Run this cell to execute the script ##\n",
    "### You don't need to change anything in here ### "
   ]
  },
  {
   "cell_type": "code",
   "execution_count": 2,
   "id": "60151776-3328-41bd-bf59-284cf501e2eb",
   "metadata": {},
   "outputs": [
    {
     "name": "stdout",
     "output_type": "stream",
     "text": [
      "Worksheets with specified scenario data:\n",
      "\n",
      "\n",
      "Timeseries data overwritten by scenario data:\n",
      "\n",
      "\n",
      "Everything worked successfully. You are great! Smile :)\n"
     ]
    }
   ],
   "source": [
    "from functions.function_import import master_function\n",
    "\n",
    "# Call the function\n",
    "master_function(output_file_format, output_format, processing_option, scenario_option)\n"
   ]
  },
  {
   "cell_type": "code",
   "execution_count": null,
   "id": "aec61526-cc83-4aa4-ad24-37934ab92feb",
   "metadata": {},
   "outputs": [],
   "source": []
  }
 ],
 "metadata": {
  "kernelspec": {
   "display_name": "Python 3 (ipykernel)",
   "language": "python",
   "name": "python3"
  },
  "language_info": {
   "codemirror_mode": {
    "name": "ipython",
    "version": 3
   },
   "file_extension": ".py",
   "mimetype": "text/x-python",
   "name": "python",
   "nbconvert_exporter": "python",
   "pygments_lexer": "ipython3",
   "version": "3.11.5"
  }
 },
 "nbformat": 4,
 "nbformat_minor": 5
}
