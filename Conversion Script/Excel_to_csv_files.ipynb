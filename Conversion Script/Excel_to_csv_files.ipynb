{
 "cells": [
  {
   "cell_type": "code",
   "execution_count": 1,
   "id": "9423810c-f93f-4520-9cb4-d02fb84788f1",
   "metadata": {},
   "outputs": [
    {
     "name": "stdout",
     "output_type": "stream",
     "text": [
      "CSV file: Par_AnnualEmissionLimit.csv, Headers: ['Emission', 'Year', 'Value']\n"
     ]
    }
   ],
   "source": [
    "# Import the necessary functions from the functions package\n",
    "from functions.read_excel_data import read_excel_data\n",
    "from functions.merge_data import find_matching_sheets\n",
    "import os\n",
    "\n",
    "# Define the path for the Excel file (assuming it is in the same directory as the notebook)\n",
    "current_directory = os.getcwd()\n",
    "excel_file_path = os.path.join(current_directory, 'Excel_data.xlsx')\n",
    "\n",
    "# Call the read_excel_data function\n",
    "data_dict = read_excel_data(excel_file_path)\n",
    "\n",
    "# Define the path to the base directory containing folders named after the sheets (one level up)\n",
    "base_directory = os.path.abspath(os.path.join(current_directory, '..', 'Data', 'Parameters'))\n",
    "\n",
    "# Call the find_matching_sheets function\n",
    "csv_files_info = find_matching_sheets(excel_file_path, base_directory, data_dict)\n",
    "\n",
    "# Print the list of CSV files being read in along with their headers\n",
    "for file_name, headers in csv_files_info:\n",
    "    print(f\"CSV file: {file_name}, Headers: {headers}\")\n"
   ]
  },
  {
   "cell_type": "code",
   "execution_count": null,
   "id": "ef911aff-d3a0-4bd2-8377-0c3b2580d747",
   "metadata": {},
   "outputs": [],
   "source": []
  }
 ],
 "metadata": {
  "kernelspec": {
   "display_name": "Python 3 (ipykernel)",
   "language": "python",
   "name": "python3"
  },
  "language_info": {
   "codemirror_mode": {
    "name": "ipython",
    "version": 3
   },
   "file_extension": ".py",
   "mimetype": "text/x-python",
   "name": "python",
   "nbconvert_exporter": "python",
   "pygments_lexer": "ipython3",
   "version": "3.11.5"
  }
 },
 "nbformat": 4,
 "nbformat_minor": 5
}
