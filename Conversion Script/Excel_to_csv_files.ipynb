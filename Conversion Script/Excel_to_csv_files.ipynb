{
 "cells": [
  {
   "cell_type": "code",
   "execution_count": 1,
   "id": "9423810c-f93f-4520-9cb4-d02fb84788f1",
   "metadata": {},
   "outputs": [
    {
     "name": "stdout",
     "output_type": "stream",
     "text": [
      "Processing sheet: Par_AnnualEmissionLimit\n"
     ]
    },
    {
     "ename": "ValueError",
     "evalue": "Header mismatch in sheet 'Par_AnnualEmissionLimit':\nCSV headers: ['0.1', '0.2', 'Emission', 'Year', 'Value']\nExcel headers: ['Emission', 'Year', 'Value']",
     "output_type": "error",
     "traceback": [
      "\u001b[1;31m---------------------------------------------------------------------------\u001b[0m",
      "\u001b[1;31mValueError\u001b[0m                                Traceback (most recent call last)",
      "Cell \u001b[1;32mIn[1], line 17\u001b[0m\n\u001b[0;32m     14\u001b[0m base_directory \u001b[38;5;241m=\u001b[39m os\u001b[38;5;241m.\u001b[39mpath\u001b[38;5;241m.\u001b[39mabspath(os\u001b[38;5;241m.\u001b[39mpath\u001b[38;5;241m.\u001b[39mjoin(current_directory, \u001b[38;5;124m'\u001b[39m\u001b[38;5;124m..\u001b[39m\u001b[38;5;124m'\u001b[39m, \u001b[38;5;124m'\u001b[39m\u001b[38;5;124mData\u001b[39m\u001b[38;5;124m'\u001b[39m, \u001b[38;5;124m'\u001b[39m\u001b[38;5;124mParameters\u001b[39m\u001b[38;5;124m'\u001b[39m))\n\u001b[0;32m     16\u001b[0m \u001b[38;5;66;03m# Call the find_matching_sheets function\u001b[39;00m\n\u001b[1;32m---> 17\u001b[0m csv_files_info \u001b[38;5;241m=\u001b[39m \u001b[43mfind_matching_sheets\u001b[49m\u001b[43m(\u001b[49m\u001b[43mexcel_file_path\u001b[49m\u001b[43m,\u001b[49m\u001b[43m \u001b[49m\u001b[43mbase_directory\u001b[49m\u001b[43m,\u001b[49m\u001b[43m \u001b[49m\u001b[43mdata_dict\u001b[49m\u001b[43m)\u001b[49m\n",
      "File \u001b[1;32m~\\Documents\\Work\\GENeSYS-MOD\\Data\\Conversion Script\\functions\\merge_data.py:90\u001b[0m, in \u001b[0;36mfind_matching_sheets\u001b[1;34m(excel_file_path, base_directory, data_dict)\u001b[0m\n\u001b[0;32m     87\u001b[0m headers_excel \u001b[38;5;241m=\u001b[39m df_excel\u001b[38;5;241m.\u001b[39mcolumns\u001b[38;5;241m.\u001b[39mtolist()\n\u001b[0;32m     89\u001b[0m \u001b[38;5;28;01mif\u001b[39;00m headers_csv \u001b[38;5;241m!=\u001b[39m headers_excel:\n\u001b[1;32m---> 90\u001b[0m     \u001b[38;5;28;01mraise\u001b[39;00m \u001b[38;5;167;01mValueError\u001b[39;00m(\u001b[38;5;124mf\u001b[39m\u001b[38;5;124m\"\u001b[39m\u001b[38;5;124mHeader mismatch in sheet \u001b[39m\u001b[38;5;124m'\u001b[39m\u001b[38;5;132;01m{\u001b[39;00msheet_name\u001b[38;5;132;01m}\u001b[39;00m\u001b[38;5;124m'\u001b[39m\u001b[38;5;124m:\u001b[39m\u001b[38;5;130;01m\\n\u001b[39;00m\u001b[38;5;124m\"\u001b[39m\n\u001b[0;32m     91\u001b[0m                      \u001b[38;5;124mf\u001b[39m\u001b[38;5;124m\"\u001b[39m\u001b[38;5;124mCSV headers: \u001b[39m\u001b[38;5;132;01m{\u001b[39;00mheaders_csv\u001b[38;5;132;01m}\u001b[39;00m\u001b[38;5;130;01m\\n\u001b[39;00m\u001b[38;5;124m\"\u001b[39m\n\u001b[0;32m     92\u001b[0m                      \u001b[38;5;124mf\u001b[39m\u001b[38;5;124m\"\u001b[39m\u001b[38;5;124mExcel headers: \u001b[39m\u001b[38;5;132;01m{\u001b[39;00mheaders_excel\u001b[38;5;132;01m}\u001b[39;00m\u001b[38;5;124m\"\u001b[39m)\n\u001b[0;32m     94\u001b[0m \u001b[38;5;66;03m# Ensure the merge columns are of the same type\u001b[39;00m\n\u001b[0;32m     95\u001b[0m merge_columns \u001b[38;5;241m=\u001b[39m headers_excel[:\u001b[38;5;241m-\u001b[39m\u001b[38;5;241m1\u001b[39m]\n",
      "\u001b[1;31mValueError\u001b[0m: Header mismatch in sheet 'Par_AnnualEmissionLimit':\nCSV headers: ['0.1', '0.2', 'Emission', 'Year', 'Value']\nExcel headers: ['Emission', 'Year', 'Value']"
     ]
    }
   ],
   "source": [
    "# Import the necessary functions from the functions package\n",
    "from functions.read_excel_data import read_excel_data\n",
    "from functions.merge_data import find_matching_sheets\n",
    "import os\n",
    "\n",
    "# Define the path for the Excel file (assuming it is in the same directory as the notebook)\n",
    "current_directory = os.getcwd()\n",
    "excel_file_path = os.path.join(current_directory, 'Excel_data_Germany.xlsx')\n",
    "\n",
    "# Call the read_excel_data function\n",
    "data_dict = read_excel_data(excel_file_path)\n",
    "\n",
    "# Define the path to the base directory containing folders named after the sheets (one level up)\n",
    "base_directory = os.path.abspath(os.path.join(current_directory, '..', 'Data', 'Parameters'))\n",
    "\n",
    "# Call the find_matching_sheets function\n",
    "csv_files_info = find_matching_sheets(excel_file_path, base_directory, data_dict)\n"
   ]
  },
  {
   "cell_type": "code",
   "execution_count": null,
   "id": "ef911aff-d3a0-4bd2-8377-0c3b2580d747",
   "metadata": {},
   "outputs": [],
   "source": []
  }
 ],
 "metadata": {
  "kernelspec": {
   "display_name": "Python 3 (ipykernel)",
   "language": "python",
   "name": "python3"
  },
  "language_info": {
   "codemirror_mode": {
    "name": "ipython",
    "version": 3
   },
   "file_extension": ".py",
   "mimetype": "text/x-python",
   "name": "python",
   "nbconvert_exporter": "python",
   "pygments_lexer": "ipython3",
   "version": "3.11.5"
  }
 },
 "nbformat": 4,
 "nbformat_minor": 5
}
