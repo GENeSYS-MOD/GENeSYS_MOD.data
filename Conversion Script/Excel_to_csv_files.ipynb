{
 "cells": [
  {
   "cell_type": "code",
   "execution_count": null,
   "id": "9423810c-f93f-4520-9cb4-d02fb84788f1",
   "metadata": {},
   "outputs": [],
   "source": [
    "# excel_to_csv_files.ipynb\n",
    "import sys\n",
    "sys.path.append('./functions')\n",
    "\n",
    "from functions.master_function import process_excel_to_csv\n",
    "\n",
    "# Define file paths\n",
    "excel_file_path = './Excel_data.xlsx'\n",
    "data_folder_path = '../Data/Parameters/'\n",
    "\n",
    "# Process the Excel file and update the CSVs\n",
    "process_excel_to_csv(excel_file_path, data_folder_path)"
   ]
  },
  {
   "cell_type": "code",
   "execution_count": null,
   "id": "ef911aff-d3a0-4bd2-8377-0c3b2580d747",
   "metadata": {},
   "outputs": [],
   "source": []
  }
 ],
 "metadata": {
  "kernelspec": {
   "display_name": "Python 3 (ipykernel)",
   "language": "python",
   "name": "python3"
  },
  "language_info": {
   "codemirror_mode": {
    "name": "ipython",
    "version": 3
   },
   "file_extension": ".py",
   "mimetype": "text/x-python",
   "name": "python",
   "nbconvert_exporter": "python",
   "pygments_lexer": "ipython3",
   "version": "3.11.5"
  }
 },
 "nbformat": 4,
 "nbformat_minor": 5
}
