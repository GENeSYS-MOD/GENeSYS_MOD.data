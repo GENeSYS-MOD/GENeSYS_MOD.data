{
 "cells": [
  {
   "cell_type": "code",
   "execution_count": 20,
   "id": "3a9133a5",
   "metadata": {},
   "outputs": [],
   "source": [
    "import os\n",
    "import pandas as pd\n",
    "import openpyxl\n",
    "\n",
    "# Define the directory where your CSV files are located\n",
    "csv_directory = 'csvs'  # Change this to the directory containing your CSV files\n",
    "\n",
    "# Initialize an empty dictionary to store DataFrames\n",
    "data_frames = {}\n",
    "\n",
    "df = pd.read_excel('GENeSYS-MOD_User_Input_Settings_v01_phe_05-09-2023.xlsx', sheet_name='Region_selection')\n",
    "filtered_df = df[df.iloc[:, -1] == 1]\n",
    "unique_values_from_first_df = filtered_df.iloc[:, 3].unique()\n",
    "\n",
    "# Initialize the Excel writer\n",
    "with pd.ExcelWriter('output.xlsx', engine='openpyxl') as writer:\n",
    "    for filename in os.listdir(csv_directory):\n",
    "        if filename.endswith('.csv'):\n",
    "            # Construct the full path to the CSV file\n",
    "            csv_file_path = os.path.join(csv_directory, filename)\n",
    "            \n",
    "            # Read the CSV file into a Pandas DataFrame, skipping the first 4 rows\n",
    "            df = pd.read_csv(csv_file_path, skiprows=4, delimiter=';')\n",
    "            \n",
    "            # Extract values from the first column\n",
    "            first_column_values = df.iloc[:, 0]\n",
    "            \n",
    "            # Filter the DataFrame based on whether the values in the first column are present in unique_values_from_first_df\n",
    "            filtered_df = df[first_column_values.isin(unique_values_from_first_df)]\n",
    "            \n",
    "            # Get the worksheet name without the .csv extension\n",
    "            worksheet_name = os.path.splitext(filename)[0]\n",
    "            \n",
    "            # Store the DataFrame in the dictionary with the filename as the key\n",
    "            data_frames[worksheet_name] = filtered_df\n",
    "            \n",
    "            # Write the DataFrame to an Excel worksheet with the same filename (without extension)\n",
    "            filtered_df.to_excel(writer, sheet_name=worksheet_name, index=False)\n",
    "\n",
    "\n"
   ]
  },
  {
   "cell_type": "code",
   "execution_count": null,
   "id": "b31f01d7",
   "metadata": {},
   "outputs": [],
   "source": []
  }
 ],
 "metadata": {
  "kernelspec": {
   "display_name": "Python 3 (ipykernel)",
   "language": "python",
   "name": "python3"
  },
  "language_info": {
   "codemirror_mode": {
    "name": "ipython",
    "version": 3
   },
   "file_extension": ".py",
   "mimetype": "text/x-python",
   "name": "python",
   "nbconvert_exporter": "python",
   "pygments_lexer": "ipython3",
   "version": "3.10.9"
  }
 },
 "nbformat": 4,
 "nbformat_minor": 5
}
