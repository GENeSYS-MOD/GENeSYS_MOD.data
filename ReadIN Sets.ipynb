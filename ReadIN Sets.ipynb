{
 "cells": [
  {
   "cell_type": "code",
   "execution_count": 1,
   "id": "43d3defb",
   "metadata": {},
   "outputs": [],
   "source": [
    "import os\n",
    "import pandas as pd\n",
    "import openpyxl\n",
    "\n",
    "# Define the directory where your CSV files are located\n",
    "csv_directory = 'csvs'  # Change this to the directory containing your CSV files\n",
    "\n",
    "# Define the directory where you want to save the filtered CSV files\n",
    "output_csv_directory = 'output_csv'  # Change this to the directory where you want to save the filtered CSV files\n",
    "\n",
    "# Create the output directory for CSV files if it doesn't exist\n",
    "os.makedirs(output_csv_directory, exist_ok=True)\n",
    "\n",
    "# Define the directory where you want to save the Excel file\n",
    "output_excel_directory = 'output_excel'  # Change this to the directory where you want to save the Excel file\n",
    "\n",
    "# Create the output directory for the Excel file if it doesn't exist\n",
    "os.makedirs(output_excel_directory, exist_ok=True)\n",
    "\n",
    "# Specify the Excel file path\n",
    "excel_file_path = 'GENeSYS-MOD_User_Input_Settings_v01_phe_05-09-2023.xlsx'  # Replace with the path to your Excel file\n",
    "\n",
    "df = pd.read_excel(excel_file_path, engine='openpyxl')\n",
    "\n",
    "\n",
    "filtered_df = df[df.iloc[:, 4] == 1] \n",
    "\n",
    "\n",
    "unique_values = filtered_df.iloc[:, 3].unique() \n",
    "\n",
    "\n"
   ]
  },
  {
   "cell_type": "code",
   "execution_count": 2,
   "id": "c45595c3",
   "metadata": {},
   "outputs": [],
   "source": [
    "# Initialize an empty dictionary to store DataFrames\n",
    "data_frames = {}\n"
   ]
  },
  {
   "cell_type": "code",
   "execution_count": 3,
   "id": "8a45607b",
   "metadata": {},
   "outputs": [],
   "source": [
    "# Initialize the Excel writer\n",
    "output_excel_file_path = os.path.join(output_excel_directory, 'output.xlsx')\n",
    "with pd.ExcelWriter(output_excel_file_path, engine='openpyxl') as writer:\n",
    "    for filename in os.listdir(csv_directory):\n",
    "        if filename.endswith('.csv'):\n",
    "            # Construct the full path to the CSV file\n",
    "            csv_file_path = os.path.join(csv_directory, filename)\n",
    "            \n",
    "            # Read the CSV file into a Pandas DataFrame, skipping the first 4 rows\n",
    "            df = pd.read_csv(csv_file_path, skiprows=4, delimiter=';')\n",
    "            \n",
    "            # Extract values from the first column\n",
    "            first_column_values = df.iloc[:, 0]\n",
    "            \n",
    "            # Filter the DataFrame based on whether the values in the first column are present in unique_values_from_first_df\n",
    "            filtered_df = df[first_column_values.isin(unique_values)]\n",
    "            \n",
    "            # Get the worksheet name without the .csv extension\n",
    "            worksheet_name = os.path.splitext(filename)[0]\n",
    "            \n",
    "            # Store the DataFrame in the dictionary with the filename (without extension) as the key\n",
    "            data_frames[worksheet_name] = filtered_df\n",
    "            \n",
    "            # Write the DataFrame to an Excel worksheet with the same filename (without extension)\n",
    "            filtered_df.to_excel(writer, sheet_name=worksheet_name, index=False)\n",
    "            \n",
    "            # Construct the full path to the output CSV file\n",
    "            output_csv_file_path = os.path.join(output_csv_directory, filename)\n",
    "            \n",
    "            # Save the filtered DataFrame to the CSV file without the index\n",
    "            filtered_df.to_csv(output_csv_file_path, index=False)"
   ]
  },
  {
   "cell_type": "code",
   "execution_count": null,
   "id": "9d8a9c51",
   "metadata": {},
   "outputs": [],
   "source": []
  }
 ],
 "metadata": {
  "kernelspec": {
   "display_name": "Python 3 (ipykernel)",
   "language": "python",
   "name": "python3"
  },
  "language_info": {
   "codemirror_mode": {
    "name": "ipython",
    "version": 3
   },
   "file_extension": ".py",
   "mimetype": "text/x-python",
   "name": "python",
   "nbconvert_exporter": "python",
   "pygments_lexer": "ipython3",
   "version": "3.10.9"
  }
 },
 "nbformat": 4,
 "nbformat_minor": 5
}
