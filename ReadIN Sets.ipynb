{
 "cells": [
  {
   "cell_type": "code",
   "execution_count": 1,
   "id": "80c3b8cb",
   "metadata": {},
   "outputs": [],
   "source": [
    "import pandas as pd\n",
    "import openpyxl"
   ]
  },
  {
   "cell_type": "code",
   "execution_count": 2,
   "id": "017d692d",
   "metadata": {
    "scrolled": true
   },
   "outputs": [
    {
     "name": "stdout",
     "output_type": "stream",
     "text": [
      "  Continent Country Country_Sublevel_1 Country_Sublevel_2  Region Selected\n",
      "0    Europe      DE              DE-BY           DE-BY-UF                1\n",
      "1    Europe      NO                NO1               NO11                1\n",
      "2    Europe      NO                NO1                NO1                1\n",
      "3    Europe      NO                 NO                 NO                0\n",
      "4    Europe      DE              DE-BY              DE-BY                1\n",
      "5    Europe      DE                 DE                 DE                1\n",
      "6      Asia      CN                 CN                 CN                0\n",
      "7      Asia      CN             CN-Cen             CN-Cen                1\n",
      "8      Asia      CN             CN-Cen       CN-Cen-Henan                1\n"
     ]
    }
   ],
   "source": [
    "df = pd.read_excel('GENeSYS-MOD_User_Input_Settings_v01_phe_05-09-2023.xlsx', sheet_name='Region_selection')\n",
    "\n",
    "# Now you can work with the DataFrame (e.g., display, manipulate, analyze data)\n",
    "print(df)"
   ]
  },
  {
   "cell_type": "code",
   "execution_count": 3,
   "id": "3b125517",
   "metadata": {},
   "outputs": [
    {
     "name": "stdout",
     "output_type": "stream",
     "text": [
      "  Continent Country Country_Sublevel_1 Country_Sublevel_2  Region Selected\n",
      "0    Europe      DE              DE-BY           DE-BY-UF                1\n",
      "1    Europe      NO                NO1               NO11                1\n",
      "2    Europe      NO                NO1                NO1                1\n",
      "4    Europe      DE              DE-BY              DE-BY                1\n",
      "5    Europe      DE                 DE                 DE                1\n",
      "7      Asia      CN             CN-Cen             CN-Cen                1\n",
      "8      Asia      CN             CN-Cen       CN-Cen-Henan                1\n"
     ]
    }
   ],
   "source": [
    "filtered_df = df[df.iloc[:, -1] == 1]\n",
    "\n",
    "# Now 'filtered_df' contains only the entries with a 1 in the last field\n",
    "print(filtered_df)"
   ]
  },
  {
   "cell_type": "code",
   "execution_count": null,
   "id": "fa81ff03",
   "metadata": {},
   "outputs": [],
   "source": [
    "# Read the CSV file into a Pandas DataFrame, starting from row 5 and using ';' as the delimiter\n",
    "second_df = pd.read_csv('csvs\\Par_RegionalBaseYearProduction.csv', skiprows=4, delimiter=';')\n",
    "\n",
    "# Now you have the data from the CSV file stored in the 'second_df' DataFrame\n",
    "print(second_df)"
   ]
  },
  {
   "cell_type": "code",
   "execution_count": null,
   "id": "b0a24ccc",
   "metadata": {},
   "outputs": [],
   "source": [
    "# Extract the unique values from the fourth entry (dimension) of the first DataFrame\n",
    "unique_values_from_first_df = filtered_df.iloc[:, 3].unique()\n",
    "\n",
    "# Filter the second DataFrame to keep only the rows where the first dimension is in the unique values from the first DataFrame\n",
    "filtered_second_df = second_df[second_df.iloc[:, 0].isin(unique_values_from_first_df)]\n",
    "\n",
    "# Now 'filtered_second_df' contains only the values where the first dimension can be found in the fourth entry of the first DataFrame\n",
    "print(filtered_second_df)"
   ]
  },
  {
   "cell_type": "code",
   "execution_count": null,
   "id": "2dc0031b",
   "metadata": {},
   "outputs": [],
   "source": [
    "# Read the CSV file into a Pandas DataFrame, starting from row 5 and using ';' as the delimiter\n",
    "third_df = pd.read_csv('csvs\\Par_CapitalCost.csv', skiprows=4, delimiter=';')\n",
    "\n",
    "# Now you have the data from the CSV file stored in the 'second_df' DataFrame\n",
    "print(third_df)"
   ]
  },
  {
   "cell_type": "code",
   "execution_count": null,
   "id": "b9318a39",
   "metadata": {},
   "outputs": [],
   "source": [
    "# Filter the second DataFrame to keep only the rows where the first dimension is in the unique values from the first DataFrame\n",
    "filtered_third_df = third_df[third_df.iloc[:, 0].isin(unique_values_from_first_df)]\n",
    "\n",
    "# Now 'filtered_second_df' contains only the values where the first dimension can be found in the fourth entry of the first DataFrame\n",
    "print(filtered_third_df)"
   ]
  },
  {
   "cell_type": "code",
   "execution_count": null,
   "id": "b5169be0",
   "metadata": {},
   "outputs": [],
   "source": [
    "# Create a Pandas Excel writer\n",
    "with pd.ExcelWriter('output.xlsx', engine='openpyxl') as writer:\n",
    "    # Write the first DataFrame to the Excel file\n",
    "    df.to_excel(writer, sheet_name='FirstDataFrame', index=False)\n",
    "    \n",
    "    # Write the second filtered DataFrame to the Excel file\n",
    "    filtered_second_df.to_excel(writer, sheet_name='FilteredSecondDataFrame', index=False)\n",
    "    \n",
    "    # Write the third filtered DataFrame to the Excel file\n",
    "    filtered_third_df.to_excel(writer, sheet_name='FilteredThirdDataFrame', index=False)\n"
   ]
  }
 ],
 "metadata": {
  "kernelspec": {
   "display_name": "Python 3 (ipykernel)",
   "language": "python",
   "name": "python3"
  },
  "language_info": {
   "codemirror_mode": {
    "name": "ipython",
    "version": 3
   },
   "file_extension": ".py",
   "mimetype": "text/x-python",
   "name": "python",
   "nbconvert_exporter": "python",
   "pygments_lexer": "ipython3",
   "version": "3.10.9"
  }
 },
 "nbformat": 4,
 "nbformat_minor": 5
}
