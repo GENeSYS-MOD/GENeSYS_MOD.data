{
 "cells": [
  {
   "cell_type": "code",
   "execution_count": 1,
   "id": "9d382aec",
   "metadata": {},
   "outputs": [],
   "source": [
    "import pandas as pd"
   ]
  },
  {
   "cell_type": "code",
   "execution_count": 2,
   "id": "2cade3c6",
   "metadata": {
    "scrolled": true
   },
   "outputs": [
    {
     "name": "stdout",
     "output_type": "stream",
     "text": [
      "  Continent Country Country_Sublevel_1 Country_Sublevel_2  Region Selected\n",
      "0    Europe      DE              DE-BY           DE-BY-UF                1\n",
      "1    Europe      NO                NO1               NO11                1\n",
      "2    Europe      NO                NO1                NO1                1\n",
      "3    Europe      NO                 NO                 NO                0\n",
      "4    Europe      DE              DE-BY              DE-BY                1\n",
      "5    Europe      DE                 DE                 DE                0\n",
      "6      Asia      CN                 CN                 CN                0\n",
      "7      Asia      CN             CN-Cen             CN-Cen                1\n",
      "8      Asia      CN             CN-Cen       CN-Cen-Henan                1\n"
     ]
    }
   ],
   "source": [
    "df = pd.read_excel('GENeSYS-MOD_User_Input_Settings_v01_phe_05-09-2023.xlsx', sheet_name='Region_selection')\n",
    "\n",
    "# Now you can work with the DataFrame (e.g., display, manipulate, analyze data)\n",
    "print(df)"
   ]
  },
  {
   "cell_type": "code",
   "execution_count": 3,
   "id": "feac5992",
   "metadata": {},
   "outputs": [
    {
     "name": "stdout",
     "output_type": "stream",
     "text": [
      "  Continent Country Country_Sublevel_1 Country_Sublevel_2  Region Selected\n",
      "0    Europe      DE              DE-BY           DE-BY-UF                1\n",
      "1    Europe      NO                NO1               NO11                1\n",
      "2    Europe      NO                NO1                NO1                1\n",
      "4    Europe      DE              DE-BY              DE-BY                1\n",
      "7      Asia      CN             CN-Cen             CN-Cen                1\n",
      "8      Asia      CN             CN-Cen       CN-Cen-Henan                1\n"
     ]
    }
   ],
   "source": [
    "filtered_df = df[df.iloc[:, -1] == 1]\n",
    "\n",
    "# Now 'filtered_df' contains only the entries with a 1 in the last field\n",
    "print(filtered_df)"
   ]
  },
  {
   "cell_type": "code",
   "execution_count": null,
   "id": "a68a9f8b",
   "metadata": {},
   "outputs": [],
   "source": []
  }
 ],
 "metadata": {
  "kernelspec": {
   "display_name": "Python 3 (ipykernel)",
   "language": "python",
   "name": "python3"
  },
  "language_info": {
   "codemirror_mode": {
    "name": "ipython",
    "version": 3
   },
   "file_extension": ".py",
   "mimetype": "text/x-python",
   "name": "python",
   "nbconvert_exporter": "python",
   "pygments_lexer": "ipython3",
   "version": "3.10.9"
  }
 },
 "nbformat": 4,
 "nbformat_minor": 5
}
